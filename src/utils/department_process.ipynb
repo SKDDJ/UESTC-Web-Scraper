{
 "cells": [
  {
   "cell_type": "code",
   "execution_count": 7,
   "metadata": {},
   "outputs": [],
   "source": [
    "# Let's first read the uploaded CSV file to understand its header and format.\n",
    "import pandas as pd\n",
    "\n",
    "# Load the CSV file\n",
    "file_path = '/Users/shiym/Downloads/成电早新闻2023_2023_较完整数据_Grid.csv'\n",
    "data = pd.read_csv(file_path)\n",
    "\n",
    "# # Display the first few rows to understand its header and format\n",
    "# data.head()\n"
   ]
  },
  {
   "cell_type": "code",
   "execution_count": 8,
   "metadata": {},
   "outputs": [
    {
     "name": "stderr",
     "output_type": "stream",
     "text": [
      "/var/folders/n9/lr0hyzgs54s776xqk56l9x7w0000gn/T/ipykernel_23055/1624283788.py:33: SettingWithCopyWarning: \n",
      "A value is trying to be set on a copy of a slice from a DataFrame.\n",
      "Try using .loc[row_indexer,col_indexer] = value instead\n",
      "\n",
      "See the caveats in the documentation: https://pandas.pydata.org/pandas-docs/stable/user_guide/indexing.html#returning-a-view-versus-a-copy\n",
      "  filtered_data['department'] = filtered_data['department'].replace(replacement_mapping, regex=True)\n"
     ]
    }
   ],
   "source": [
    "# Step 1 & 2: Filter records and replace abbreviations\n",
    "\n",
    "# Define the abbreviation replacement mapping\n",
    "replacement_mapping = {\n",
    "    \"信通学院\": \"信息与通信工程学院\",\n",
    "    \"电子学院\": \"电子科学与工程学院\",\n",
    "    \"材料学院\": \"材料与能源学院\",\n",
    "    \"机电学院\": \"机械与电气工程学院\",\n",
    "    \"计算机（网安）学院\": \"计算机科学与工程学院（网络空间安全学院）\",\n",
    "    \"光电学院\": \"光电科学与工程学院\",\n",
    "    \"自动化学院\": \"自动化工程学院\",\n",
    "    \"资环学院\": \"资源与环境学院\",\n",
    "    \"计算机学院\": \"计算机科学与工程学院（网络空间安全学院）\",\n",
    "    \"计算机科学与工程学院\": \"计算机科学与工程学院（网络空间安全学院）\",\n",
    "    \"信软学院\": \"信息与软件工程学院（示范性软件学院）\",\n",
    "    \"软件学院\": \"信息与软件工程学院（示范性软件学院）\",\n",
    "    \"空天学院\": \"航空航天学院\",\n",
    "    \"数学学院\": \"数学科学学院\",\n",
    "    \"物院\": \"物理学院\",\n",
    "    \"生命学院\": \"生命科学与技术学院\",\n",
    "    \"经管学院\": \"经济与管理学院\",\n",
    "    \"公管学院\": \"公共管理学院\",\n",
    "    \"集电学院\": \"集成电路科学与工程学院（示范性微电子学院）\",\n",
    "    \"集成电路科学与工程学院\": \"集成电路科学与工程学院（示范性微电子学院）\",\n",
    "\n",
    "    # 其他未提及的替换关系保持原样，不做处理\n",
    "}\n",
    "\n",
    "# Correcting the issue by excluding rows with NaN in 'department' before filtering\n",
    "filtered_data = data[data['department'].fillna('').str.contains(\"学院|部\")]\n",
    "\n",
    "# Replace abbreviations in 'department' column with the provided mapping\n",
    "filtered_data['department'] = filtered_data['department'].replace(replacement_mapping, regex=True)\n",
    "\n",
    "# # # Display the first few rows of the processed data to verify corrections\n",
    "# filtered_data.head()\n",
    "\n",
    "# 将DataFrame保存为CSV，不包含行索引\n",
    "file_path = '/Users/shiym/Documents/PEFT/web_scraper_project/src/outputs/filtered_data.csv'\n",
    "filtered_data.to_csv(file_path, index=False)\n",
    "\n",
    "# print(f\"文件已保存到 {file_path}\")\n"
   ]
  },
  {
   "cell_type": "code",
   "execution_count": 9,
   "metadata": {},
   "outputs": [
    {
     "data": {
      "text/html": [
       "<div>\n",
       "<style scoped>\n",
       "    .dataframe tbody tr th:only-of-type {\n",
       "        vertical-align: middle;\n",
       "    }\n",
       "\n",
       "    .dataframe tbody tr th {\n",
       "        vertical-align: top;\n",
       "    }\n",
       "\n",
       "    .dataframe thead th {\n",
       "        text-align: right;\n",
       "    }\n",
       "</style>\n",
       "<table border=\"1\" class=\"dataframe\">\n",
       "  <thead>\n",
       "    <tr style=\"text-align: right;\">\n",
       "      <th></th>\n",
       "      <th>individuals</th>\n",
       "      <th>date</th>\n",
       "      <th>department</th>\n",
       "      <th>position</th>\n",
       "    </tr>\n",
       "  </thead>\n",
       "  <tbody>\n",
       "    <tr>\n",
       "      <th>0</th>\n",
       "      <td>NaN</td>\n",
       "      <td>12月29日</td>\n",
       "      <td>光电科学与工程学院</td>\n",
       "      <td>NaN</td>\n",
       "    </tr>\n",
       "    <tr>\n",
       "      <th>1</th>\n",
       "      <td>[{'name': '张均强', 'identity': '学院党委书记'}, {'name...</td>\n",
       "      <td>12月29日</td>\n",
       "      <td>自动化工程学院</td>\n",
       "      <td>NaN</td>\n",
       "    </tr>\n",
       "    <tr>\n",
       "      <th>5</th>\n",
       "      <td>NaN</td>\n",
       "      <td>12月28日-29日</td>\n",
       "      <td>机械与电气工程学院, 资源与环境学院, 计算机科学与工程学院（网络空间安全学院）, 生命科学...</td>\n",
       "      <td>NaN</td>\n",
       "    </tr>\n",
       "    <tr>\n",
       "      <th>6</th>\n",
       "      <td>[{'name': '李晓峰教授', 'identity': '国家教学名师'}]</td>\n",
       "      <td>12月28日</td>\n",
       "      <td>信息与通信工程学院</td>\n",
       "      <td>NaN</td>\n",
       "    </tr>\n",
       "    <tr>\n",
       "      <th>8</th>\n",
       "      <td>[{'name': '赴高新区党群工作部统战工作处', 'identity': '交流洽谈'}]</td>\n",
       "      <td>12月28日</td>\n",
       "      <td>党委统战部</td>\n",
       "      <td>负责人</td>\n",
       "    </tr>\n",
       "  </tbody>\n",
       "</table>\n",
       "</div>"
      ],
      "text/plain": [
       "                                         individuals        date  \\\n",
       "0                                                NaN      12月29日   \n",
       "1  [{'name': '张均强', 'identity': '学院党委书记'}, {'name...      12月29日   \n",
       "5                                                NaN  12月28日-29日   \n",
       "6          [{'name': '李晓峰教授', 'identity': '国家教学名师'}]      12月28日   \n",
       "8   [{'name': '赴高新区党群工作部统战工作处', 'identity': '交流洽谈'}]      12月28日   \n",
       "\n",
       "                                          department position  \n",
       "0                                          光电科学与工程学院      NaN  \n",
       "1                                            自动化工程学院      NaN  \n",
       "5  机械与电气工程学院, 资源与环境学院, 计算机科学与工程学院（网络空间安全学院）, 生命科学...      NaN  \n",
       "6                                          信息与通信工程学院      NaN  \n",
       "8                                              党委统战部      负责人  "
      ]
     },
     "execution_count": 9,
     "metadata": {},
     "output_type": "execute_result"
    }
   ],
   "source": [
    "filtered_data.head(5)\n"
   ]
  },
  {
   "cell_type": "code",
   "execution_count": 10,
   "metadata": {},
   "outputs": [
    {
     "name": "stdout",
     "output_type": "stream",
     "text": [
      "文件已保存到 /Users/shiym/Documents/PEFT/web_scraper_project/src/outputs/filtered_data.csv\n",
      "已成功移除department列中的'党委'\n"
     ]
    },
    {
     "name": "stderr",
     "output_type": "stream",
     "text": [
      "/var/folders/n9/lr0hyzgs54s776xqk56l9x7w0000gn/T/ipykernel_23055/3461221300.py:2: SettingWithCopyWarning: \n",
      "A value is trying to be set on a copy of a slice from a DataFrame.\n",
      "Try using .loc[row_indexer,col_indexer] = value instead\n",
      "\n",
      "See the caveats in the documentation: https://pandas.pydata.org/pandas-docs/stable/user_guide/indexing.html#returning-a-view-versus-a-copy\n",
      "  filtered_data['department'] = filtered_data['department'].str.replace(\"党委\", \"\")\n"
     ]
    }
   ],
   "source": [
    "\n",
    "\n",
    "# 移除department列中所有的\"党委\"\n",
    "filtered_data['department'] = filtered_data['department'].str.replace(\"党委\", \"\")\n",
    "\n",
    "# 将DataFrame保存为CSV，不包含行索引\n",
    "file_path = '/Users/shiym/Documents/PEFT/web_scraper_project/src/outputs/filtered_data.csv'\n",
    "filtered_data.to_csv(file_path, index=False)\n",
    "\n",
    "print(f\"文件已保存到 {file_path}\")\n",
    "print(\"已成功移除department列中的'党委'\")\n"
   ]
  },
  {
   "cell_type": "code",
   "execution_count": 12,
   "metadata": {},
   "outputs": [
    {
     "name": "stdout",
     "output_type": "stream",
     "text": [
      "文件已保存到 /Users/shiym/Documents/PEFT/web_scraper_project/src/outputs/filtered_data.csv\n",
      "已成功移除department列中的'党总支'\n"
     ]
    },
    {
     "name": "stderr",
     "output_type": "stream",
     "text": [
      "/var/folders/n9/lr0hyzgs54s776xqk56l9x7w0000gn/T/ipykernel_23055/3793071607.py:2: SettingWithCopyWarning: \n",
      "A value is trying to be set on a copy of a slice from a DataFrame.\n",
      "Try using .loc[row_indexer,col_indexer] = value instead\n",
      "\n",
      "See the caveats in the documentation: https://pandas.pydata.org/pandas-docs/stable/user_guide/indexing.html#returning-a-view-versus-a-copy\n",
      "  filtered_data['department'] = filtered_data['department'].str.replace(\"电子科技大学\", \"\")\n"
     ]
    }
   ],
   "source": [
    "\n",
    "# 移除department列中所有的\"党委\"\n",
    "filtered_data['department'] = filtered_data['department'].str.replace(\"党总支\", \"\")\n",
    "\n",
    "# 将DataFrame保存为CSV，不包含行索引\n",
    "file_path = '/Users/shiym/Documents/PEFT/web_scraper_project/src/outputs/filtered_data.csv'\n",
    "filtered_data.to_csv(file_path, index=False)\n",
    "\n",
    "print(f\"文件已保存到 {file_path}\")\n",
    "print(\"已成功移除department列中的'党总支'\")\n"
   ]
  },
  {
   "cell_type": "code",
   "execution_count": 14,
   "metadata": {},
   "outputs": [
    {
     "name": "stdout",
     "output_type": "stream",
     "text": [
      "文件已保存到 /Users/shiym/Documents/PEFT/web_scraper_project/src/outputs/filtered_data.csv\n",
      "已成功移除department列中的'党总支'\n"
     ]
    },
    {
     "name": "stderr",
     "output_type": "stream",
     "text": [
      "/var/folders/n9/lr0hyzgs54s776xqk56l9x7w0000gn/T/ipykernel_23055/1050494051.py:23: SettingWithCopyWarning: \n",
      "A value is trying to be set on a copy of a slice from a DataFrame.\n",
      "Try using .loc[row_indexer,col_indexer] = value instead\n",
      "\n",
      "See the caveats in the documentation: https://pandas.pydata.org/pandas-docs/stable/user_guide/indexing.html#returning-a-view-versus-a-copy\n",
      "  filtered_data['department'] = filtered_data['department'].apply(trim_department)\n"
     ]
    }
   ],
   "source": [
    "# # Filter the DataFrame to remove rows where 'department' does not contain \"院\"\n",
    "# filtered_data = filtered_data[filtered_data['department'].str.contains(\"院\")]\n",
    "\n",
    "# # 将DataFrame保存为CSV，不包含行索引\n",
    "# file_path = '/Users/shiym/Documents/PEFT/web_scraper_project/src/outputs/filtered_data.csv'\n",
    "# filtered_data.to_csv(file_path, index=False)\n",
    "\n",
    "# print(f\"文件已保存到 {file_path}\")\n",
    "# print(\"已成功\")\n",
    "\n",
    "# Define a function to trim the 'department' column values as per the specified requirement\n",
    "def trim_department(department):\n",
    "    import re\n",
    "    # Pattern to match the text to keep (up to \"学院\" or \"部\")\n",
    "    pattern = r'(.*?(学院|部))'\n",
    "    match = re.match(pattern, department)\n",
    "    if match:\n",
    "        return match.group(1)  # Return the matched text up to \"学院\" or \"部\"\n",
    "    else:\n",
    "        return department  # Return the original text if no match is found\n",
    "\n",
    "# Apply the function to the 'department' column\n",
    "filtered_data['department'] = filtered_data['department'].apply(trim_department)\n",
    "\n",
    "\n",
    "# 将DataFrame保存为CSV，不包含行索引\n",
    "file_path = '/Users/shiym/Documents/PEFT/web_scraper_project/src/outputs/filtered_data.csv'\n",
    "filtered_data.to_csv(file_path, index=False)\n",
    "\n",
    "print(f\"文件已保存到 {file_path}\")\n",
    "print(\"已成功移除department列中的'党总支'\")\n"
   ]
  },
  {
   "cell_type": "code",
   "execution_count": 5,
   "metadata": {},
   "outputs": [],
   "source": [
    "# matrix = [[1,2,3],[4,5,6],[7,8,9]]\n",
    "matrix = [[1,2,3],[4,5,6]]\n"
   ]
  },
  {
   "cell_type": "code",
   "execution_count": 6,
   "metadata": {},
   "outputs": [
    {
     "data": {
      "text/plain": [
       "[[1, 2, 3], [4, 5, 6]]"
      ]
     },
     "execution_count": 6,
     "metadata": {},
     "output_type": "execute_result"
    }
   ],
   "source": [
    "matrix\n"
   ]
  },
  {
   "cell_type": "code",
   "execution_count": 7,
   "metadata": {},
   "outputs": [
    {
     "data": {
      "text/plain": [
       "[1, 2, 3]"
      ]
     },
     "execution_count": 7,
     "metadata": {},
     "output_type": "execute_result"
    }
   ],
   "source": [
    "matrix[0]\n"
   ]
  },
  {
   "cell_type": "code",
   "execution_count": 8,
   "metadata": {},
   "outputs": [
    {
     "data": {
      "text/plain": [
       "2"
      ]
     },
     "execution_count": 8,
     "metadata": {},
     "output_type": "execute_result"
    }
   ],
   "source": [
    "len(matrix)\n"
   ]
  },
  {
   "cell_type": "code",
   "execution_count": 9,
   "metadata": {},
   "outputs": [
    {
     "data": {
      "text/plain": [
       "3"
      ]
     },
     "execution_count": 9,
     "metadata": {},
     "output_type": "execute_result"
    }
   ],
   "source": [
    "len(matrix[0])\n"
   ]
  },
  {
   "cell_type": "code",
   "execution_count": 18,
   "metadata": {},
   "outputs": [],
   "source": [
    "wow = [[0 for _ in range(1,4)] for _ in range(1,2)]\n"
   ]
  },
  {
   "cell_type": "code",
   "execution_count": 19,
   "metadata": {},
   "outputs": [
    {
     "data": {
      "text/plain": [
       "[[0, 0, 0]]"
      ]
     },
     "execution_count": 19,
     "metadata": {},
     "output_type": "execute_result"
    }
   ],
   "source": [
    "wow\n"
   ]
  },
  {
   "cell_type": "code",
   "execution_count": 20,
   "metadata": {},
   "outputs": [],
   "source": [
    "keep = [0 for _ in range(1,4)]\n"
   ]
  },
  {
   "cell_type": "code",
   "execution_count": 21,
   "metadata": {},
   "outputs": [
    {
     "data": {
      "text/plain": [
       "[0, 0, 0]"
      ]
     },
     "execution_count": 21,
     "metadata": {},
     "output_type": "execute_result"
    }
   ],
   "source": [
    "keep\n"
   ]
  },
  {
   "cell_type": "code",
   "execution_count": null,
   "metadata": {},
   "outputs": [],
   "source": [
    "# 差分数组工具类\n",
    "class Difference:\n",
    "    # 差分数组\n",
    "    def __init__(self, nums: List[int]):\n",
    "        assert len(nums) > 0\n",
    "        self.diff = [0] * len(nums)\n",
    "        # 根据初始数组构造差分数组\n",
    "        self.diff[0] = nums[0]\n",
    "        for i in range(1, len(nums)):\n",
    "            self.diff[i] = nums[i] - nums[i - 1]\n",
    "\n",
    "    # 给闭区间 [i, j] 增加 val（可以是负数）\n",
    "    def increment(self, i: int, j: int, val: int) -> None:\n",
    "        self.diff[i] += val\n",
    "        if j + 1 < len(self.diff):\n",
    "            self.diff[j + 1] -= val\n",
    "\n",
    "    # 返回结果数组\n",
    "    def result(self) -> List[int]:\n",
    "        res = [0] * len(self.diff)\n",
    "        # 根据差分数组构造结果数组\n",
    "        res[0] = self.diff[0]\n",
    "        for i in range(1, len(self.diff)):\n",
    "            res[i] = res[i - 1] + self.diff[i]\n",
    "        return res\n"
   ]
  },
  {
   "cell_type": "code",
   "execution_count": 22,
   "metadata": {},
   "outputs": [
    {
     "ename": "IndentationError",
     "evalue": "expected an indented block (2891480771.py, line 2)",
     "output_type": "error",
     "traceback": [
      "\u001b[0;36m  Cell \u001b[0;32mIn[22], line 2\u001b[0;36m\u001b[0m\n\u001b[0;31m    def __init__(self, nums: List[int]):\u001b[0m\n\u001b[0m                                        ^\u001b[0m\n\u001b[0;31mIndentationError\u001b[0m\u001b[0;31m:\u001b[0m expected an indented block\n"
     ]
    }
   ],
   "source": [
    "class Difference:\n",
    "    def __init__(self, nums: List[int]):\n",
    "        assert len(nums)>0\n",
    "        self.diff = [0]*len(nums)\n",
    "        self.diff[0] = nums[0]\n",
    "        for i in range(1, len(nums)):\n",
    "            self.diff[i] = nums[i] - nums[i - 1]\n",
    "    \n",
    "    def increment(self, i: int, j: int, val: int) -> None:\n",
    "        self.diff[i] += val\n",
    "        if j + 1 < len(self.diff):\n",
    "            self.diff[j + 1] -= val\n",
    "    def result(self) -> List[int]:\n",
    "        res = [0] * len(self.diff)\n",
    "        \n",
    "        res[0] = self.diff[0]\n",
    "        for i in range(1, len(self.diff)):\n",
    "            res[i] = res[i-1] + self.diff[i]\n",
    "        return res\n"
   ]
  },
  {
   "cell_type": "code",
   "execution_count": 23,
   "metadata": {},
   "outputs": [],
   "source": [
    "matrix = [[1,2,3],[4,5,6]]\n"
   ]
  },
  {
   "cell_type": "code",
   "execution_count": 24,
   "metadata": {},
   "outputs": [
    {
     "name": "stdout",
     "output_type": "stream",
     "text": [
      "[1, 2, 3]\n",
      "[4, 5, 6]\n"
     ]
    }
   ],
   "source": [
    "for row in matrix:\n",
    "    print(row)\n"
   ]
  },
  {
   "cell_type": "code",
   "execution_count": 25,
   "metadata": {},
   "outputs": [
    {
     "name": "stdout",
     "output_type": "stream",
     "text": [
      "{0: 1, 2: 1, 4: 1, 6: 1, 8: 1}\n"
     ]
    }
   ],
   "source": [
    "window = {}\n",
    "count = 0\n",
    "while count < 10:\n",
    "    window[count] = 1\n",
    "    count += 2\n",
    "\n",
    "print(window)\n"
   ]
  },
  {
   "cell_type": "code",
   "execution_count": 26,
   "metadata": {},
   "outputs": [
    {
     "name": "stdout",
     "output_type": "stream",
     "text": [
      "defaultdict(<class 'int'>, {0: 555, 2: 555, 4: 555, 6: 555, 8: 555})\n",
      "hi\n",
      "defaultdict(<class 'int'>, {})\n"
     ]
    }
   ],
   "source": [
    "from collections import defaultdict\n",
    "\n",
    "m, n = defaultdict(int),defaultdict(int)\n",
    "res = 0\n",
    "while res < 10:\n",
    "    m[res] += 555\n",
    "    res += 2\n",
    "    \n",
    "print(m)\n",
    "print('hi')\n",
    "print(n)\n"
   ]
  },
  {
   "cell_type": "code",
   "execution_count": 27,
   "metadata": {},
   "outputs": [
    {
     "data": {
      "text/plain": [
       "inf"
      ]
     },
     "execution_count": 27,
     "metadata": {},
     "output_type": "execute_result"
    }
   ],
   "source": [
    "a = float('inf')\n",
    "a\n"
   ]
  },
  {
   "cell_type": "code",
   "execution_count": 29,
   "metadata": {},
   "outputs": [
    {
     "name": "stdout",
     "output_type": "stream",
     "text": [
      "inf\n"
     ]
    }
   ],
   "source": [
    "啊 = float('inf')\n",
    "print(啊)\n"
   ]
  },
  {
   "cell_type": "code",
   "execution_count": null,
   "metadata": {},
   "outputs": [],
   "source": []
  }
 ],
 "metadata": {
  "kernelspec": {
   "display_name": "crawl",
   "language": "python",
   "name": "python3"
  },
  "language_info": {
   "codemirror_mode": {
    "name": "ipython",
    "version": 3
   },
   "file_extension": ".py",
   "mimetype": "text/x-python",
   "name": "python",
   "nbconvert_exporter": "python",
   "pygments_lexer": "ipython3",
   "version": "3.9.18"
  }
 },
 "nbformat": 4,
 "nbformat_minor": 2
}
