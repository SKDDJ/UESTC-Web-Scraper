{
 "cells": [
  {
   "cell_type": "code",
   "execution_count": 66,
   "metadata": {},
   "outputs": [],
   "source": [
    "import openai\n",
    "from openai import OpenAI\n"
   ]
  },
  {
   "cell_type": "code",
   "execution_count": 67,
   "metadata": {},
   "outputs": [],
   "source": [
    "def as_csv(data, columns):\n",
    "  \n",
    "  prompt = 'Format given text in CSV with header and following columns: ' + ', '.join(columns) + '. Return only CSV.' + \"\\n\\n\"\n",
    "\n",
    "  client = OpenAI(\n",
    "    # api_key=os.environ['OPENAI_API_KEY'], \n",
    "    # base_url=os.environ['OPENAI_API_BASE'],# this is also the default, it can be omitted\n",
    "    api_key='sk-J6eac0jO9v7Qjc7AoPpp0XvcQllWZPvM2GcWmfONVy3a5t2c',\n",
    "    base_url='https://api.openai-proxy.org/v1',\n",
    " \n",
    "  )\n",
    "  \n",
    "  response = client.completions.create(\n",
    "    model=\"gpt-3.5-turbo-instruct-0914\",\n",
    "    prompt=prompt + data,\n",
    "    max_tokens=2500,\n",
    "    temperature=0\n",
    "    )\n",
    "\n",
    "# 确保以正确的方式访问 response 对象中的数据\n",
    "  text = response.choices[0].text.strip()  # 注意这里没有使用 ['choices'] 而是 .choices\n",
    "  return text\n"
   ]
  },
  {
   "cell_type": "code",
   "execution_count": 68,
   "metadata": {},
   "outputs": [],
   "source": [
    "data = open('../outputs/test_2023.csv').read()\n"
   ]
  },
  {
   "cell_type": "code",
   "execution_count": 69,
   "metadata": {},
   "outputs": [
    {
     "name": "stdout",
     "output_type": "stream",
     "text": [
      "日期,人物姓名,人物职位,参与部门,事件名称\n",
      "12月29日,光电学院,教职工党支部,年终交流会,支部建设、续航项目推进汇报\n",
      "12月29日,国家管网集团联合管道有限责任公司西部分公司,主管工程师,自动化技术培训班结业典礼,学员出席典礼\n",
      "12月28日,深圳高研院,党委理论学习中心组,学习会,习近平总书记重要讲话精神、重要文章《加强基础研究 实现高水平科技自立自强》\n",
      "12月27日-28日,中国高等教育学会教育基金工作研究分会,常务理事会议及圆桌论坛,2023年学术年会,我校教育基金会负责人参加\n",
      "近日,学校,“形势与政策”课,本科生,专题教学以“深刻把握教育、科技、人才在全面建设社会主义现代化国家中的地位作用”为主题\n",
      "CSV 数据已保存到 ../outputs/look_it.csv\n"
     ]
    }
   ],
   "source": [
    "csv = as_csv(data, ['日期','人物姓名', '人物职位', '参与部门', '事件名称'])\n",
    "\n",
    "print(csv)\n",
    "\n",
    "\n",
    "# 定义要保存 CSV 文件的路径\n",
    "file_path = '../outputs/look_it.csv'\n",
    "\n",
    "# 打开文件并写入 csv 变量的内容\n",
    "with open(file_path, 'w', encoding='utf-8') as file:\n",
    "    file.write(csv)\n",
    "\n",
    "print(f'CSV 数据已保存到 {file_path}')\n"
   ]
  },
  {
   "cell_type": "code",
   "execution_count": null,
   "metadata": {},
   "outputs": [],
   "source": []
  }
 ],
 "metadata": {
  "kernelspec": {
   "display_name": "crawl",
   "language": "python",
   "name": "python3"
  },
  "language_info": {
   "codemirror_mode": {
    "name": "ipython",
    "version": 3
   },
   "file_extension": ".py",
   "mimetype": "text/x-python",
   "name": "python",
   "nbconvert_exporter": "python",
   "pygments_lexer": "ipython3",
   "version": "3.9.18"
  }
 },
 "nbformat": 4,
 "nbformat_minor": 2
}
