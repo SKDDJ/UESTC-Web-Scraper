{
 "cells": [
  {
   "cell_type": "code",
   "execution_count": 1,
   "metadata": {},
   "outputs": [
    {
     "name": "stderr",
     "output_type": "stream",
     "text": [
      "/var/folders/n9/lr0hyzgs54s776xqk56l9x7w0000gn/T/ipykernel_69247/4080736814.py:1: DeprecationWarning: \n",
      "Pyarrow will become a required dependency of pandas in the next major release of pandas (pandas 3.0),\n",
      "(to allow more performant data types, such as the Arrow string type, and better interoperability with other libraries)\n",
      "but was not found to be installed on your system.\n",
      "If this would cause problems for you,\n",
      "please provide us feedback at https://github.com/pandas-dev/pandas/issues/54466\n",
      "        \n",
      "  import pandas as pd\n"
     ]
    }
   ],
   "source": [
    "import pandas as pd"
   ]
  },
  {
   "cell_type": "code",
   "execution_count": 2,
   "metadata": {},
   "outputs": [],
   "source": [
    "\n",
    "# 输入和输出文件的路径\n",
    "input_file = '../outputs/2023_news.csv'\n",
    "output_file = '../outputs/2023_news_wona.csv'"
   ]
  },
  {
   "cell_type": "code",
   "execution_count": 3,
   "metadata": {},
   "outputs": [
    {
     "name": "stdout",
     "output_type": "stream",
     "text": [
      "第二列为空的行已经被移除，并且重新排序了行号。\n"
     ]
    }
   ],
   "source": [
    "\n",
    "# 使用pandas读取CSV文件\n",
    "df = pd.read_csv(input_file)\n",
    "\n",
    "# 删除第二列为空的行\n",
    "df = df[df.iloc[:, 1].notna()]\n",
    "\n",
    "# 重置索引（序号），并删除旧索引列\n",
    "df.reset_index(drop=True, inplace=True)\n",
    "\n",
    "# 将清理后的数据写回CSV\n",
    "df.to_csv(output_file, index_label='序号')\n",
    "\n",
    "print(\"第二列为空的行已经被移除，并且重新排序了行号。\")\n",
    "\n"
   ]
  },
  {
   "cell_type": "code",
   "execution_count": null,
   "metadata": {},
   "outputs": [],
   "source": []
  }
 ],
 "metadata": {
  "kernelspec": {
   "display_name": "crawl",
   "language": "python",
   "name": "python3"
  },
  "language_info": {
   "codemirror_mode": {
    "name": "ipython",
    "version": 3
   },
   "file_extension": ".py",
   "mimetype": "text/x-python",
   "name": "python",
   "nbconvert_exporter": "python",
   "pygments_lexer": "ipython3",
   "version": "3.9.18"
  }
 },
 "nbformat": 4,
 "nbformat_minor": 2
}
