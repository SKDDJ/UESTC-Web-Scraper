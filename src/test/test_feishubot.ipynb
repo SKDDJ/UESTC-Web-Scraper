{
 "cells": [
  {
   "cell_type": "code",
   "execution_count": 6,
   "metadata": {},
   "outputs": [],
   "source": [
    "import requests\n"
   ]
  },
  {
   "cell_type": "code",
   "execution_count": 7,
   "metadata": {},
   "outputs": [],
   "source": [
    "WEBHOOK_URL = \"https://open.feishu.cn/open-apis/bot/v2/hook/70d7d8f5-0893-41ba-afc5-3ba1a2fbe486\"\n"
   ]
  },
  {
   "cell_type": "code",
   "execution_count": 10,
   "metadata": {},
   "outputs": [
    {
     "name": "stdout",
     "output_type": "stream",
     "text": [
      "消息发送成功\n"
     ]
    }
   ],
   "source": [
    "def main():\n",
    "    params = {\n",
    "        \"msg_type\": \"text\", # 指定消息类型\n",
    "        \"content\": {  # 消息内容主体\n",
    "        \"text\": \"practice oral english\"\n",
    "        }\n",
    "            }\n",
    "    \n",
    "    resp = requests.post(WEBHOOK_URL, json=params)\n",
    "    resp.raise_for_status()\n",
    "    result = resp.json()\n",
    "    if result.get(\"code\") and result.get(\"code\") != 0:\n",
    "        print(f\"发送失败：{result['msg']}\")\n",
    "        return\n",
    "    print(\"消息发送成功\")\n",
    "\n",
    "if __name__ == \"__main__\":\n",
    "    main()\n",
    "\n"
   ]
  },
  {
   "cell_type": "code",
   "execution_count": null,
   "metadata": {},
   "outputs": [],
   "source": []
  }
 ],
 "metadata": {
  "kernelspec": {
   "display_name": "crawl",
   "language": "python",
   "name": "python3"
  },
  "language_info": {
   "codemirror_mode": {
    "name": "ipython",
    "version": 3
   },
   "file_extension": ".py",
   "mimetype": "text/x-python",
   "name": "python",
   "nbconvert_exporter": "python",
   "pygments_lexer": "ipython3",
   "version": "3.9.18"
  }
 },
 "nbformat": 4,
 "nbformat_minor": 2
}
